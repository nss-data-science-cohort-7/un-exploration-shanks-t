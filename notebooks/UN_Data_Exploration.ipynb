{
 "cells": [
  {
   "cell_type": "code",
   "execution_count": 25,
   "metadata": {},
   "outputs": [
    {
     "data": {
      "text/plain": [
       "242"
      ]
     },
     "execution_count": 25,
     "metadata": {},
     "output_type": "execute_result"
    }
   ],
   "source": [
    "import pandas as pd\n",
    "import numpy as np\n",
    "import matplotlib.pyplot as plt\n",
    "import seaborn as sns\n",
    "\n",
    "\n",
    "\n",
    "gdp_df = pd.read_csv(\"../data/UNdata_Export_20230915_015125007.csv\")\n",
    "\n",
    "gdp_df.head(20)\n",
    "\n",
    "gdp_df.drop(columns=\"Value Footnotes\")\n",
    "\n",
    "\n",
    "renamed = gdp_df.rename(columns={gdp_df.columns[0]:'Country',gdp_df.columns[1]: 'Year', gdp_df.columns[2]: 'GDP_Per_Capita'})\n",
    "\n",
    "num_columns = gdp_df.shape[1]\n",
    "num_columns\n",
    "\n",
    "num_rows = gdp_df.shape[0]\n",
    "num_rows\n",
    "\n",
    "column_types = gdp_df.dtypes\n",
    "column_types\n",
    "\n",
    "\n",
    "renamed = gdp_df.rename(columns={gdp_df.columns[0]:'Country',gdp_df.columns[1]: 'Year', gdp_df.columns[2]: 'GDP_Per_Capita'})\n",
    "\n",
    "renamed.dtypes\n",
    "\n",
    "diff_years = renamed['Year'].unique()\n",
    "\n",
    "count_per_year = renamed['Year'].value_counts()\n",
    "count_per_year\n",
    "\n",
    "diff_countries = renamed['Country'].unique()\n",
    "diff_countries\n",
    "\n",
    "num_diff_countries = renamed['Country'].nunique()\n",
    "num_diff_countries\n",
    "\n"
   ]
  }
 ],
 "metadata": {
  "kernelspec": {
   "display_name": "base",
   "language": "python",
   "name": "python3"
  },
  "language_info": {
   "codemirror_mode": {
    "name": "ipython",
    "version": 3
   },
   "file_extension": ".py",
   "mimetype": "text/x-python",
   "name": "python",
   "nbconvert_exporter": "python",
   "pygments_lexer": "ipython3",
   "version": "3.11.4"
  },
  "orig_nbformat": 4
 },
 "nbformat": 4,
 "nbformat_minor": 2
}
