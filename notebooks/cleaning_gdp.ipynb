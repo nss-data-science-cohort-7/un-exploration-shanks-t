{
 "cells": [
  {
   "cell_type": "code",
   "execution_count": 8,
   "metadata": {},
   "outputs": [],
   "source": [
    "import pandas as pd\n",
    "import pandas_flavor as pf\n",
    "import numpy as np\n",
    "import matplotlib.pyplot as plt\n",
    "import seaborn as sns\n",
    "import janitor\n",
    "from janitor import remove_columns, rename_column, remove_empty, filter_on, groupby_agg, clean_names"
   ]
  },
  {
   "cell_type": "code",
   "execution_count": 9,
   "metadata": {},
   "outputs": [],
   "source": [
    "cleaned_gdp_df = (\n",
    "    pd.read_csv(\"../data/gdp_data.csv\")\n",
    "    .clean_names()\n",
    "    # .remove_columns(\"value_footnotes\")\n",
    "    .rename(columns={\"country_or_area\": \"country\", \"value\": \"GDP_Per_Capita\"})\n",
    ")\n",
    "cleaned_gdp_df = cleaned_gdp_df.drop(columns=['item'])\n",
    "\n",
    "\n",
    "cleaned_gdp_df.to_csv('../data/gdp_cl.csv', index=False)"
   ]
  }
 ],
 "metadata": {
  "kernelspec": {
   "display_name": "base",
   "language": "python",
   "name": "python3"
  },
  "language_info": {
   "codemirror_mode": {
    "name": "ipython",
    "version": 3
   },
   "file_extension": ".py",
   "mimetype": "text/x-python",
   "name": "python",
   "nbconvert_exporter": "python",
   "pygments_lexer": "ipython3",
   "version": "3.11.4"
  },
  "orig_nbformat": 4
 },
 "nbformat": 4,
 "nbformat_minor": 2
}
