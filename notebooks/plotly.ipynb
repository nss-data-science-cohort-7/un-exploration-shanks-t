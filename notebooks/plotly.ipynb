{
 "cells": [
  {
   "cell_type": "code",
   "execution_count": 88,
   "metadata": {},
   "outputs": [],
   "source": [
    "import pandas as pd"
   ]
  },
  {
   "cell_type": "code",
   "execution_count": 89,
   "metadata": {},
   "outputs": [
    {
     "data": {
      "text/plain": [
       "Index(['Country Name', 'Indicator Name', 'Year', 'Value'], dtype='object')"
      ]
     },
     "execution_count": 89,
     "metadata": {},
     "output_type": "execute_result"
    }
   ],
   "source": [
    "df = pd.read_csv('https://plotly.github.io/datasets/country_indicators.csv')\n",
    "df.head(10)\n",
    "df.columns"
   ]
  },
  {
   "cell_type": "code",
   "execution_count": 90,
   "metadata": {},
   "outputs": [
    {
     "name": "stdout",
     "output_type": "stream",
     "text": [
      "                     country           cont  year Indicator Name   Value\n",
      "0                Afghanistan           Asia  1970       life_exp  41.228\n",
      "1                Afghanistan           Asia  2000       life_exp  60.364\n",
      "2                    Albania         Europe  1970       life_exp  69.584\n",
      "3                    Albania         Europe  1980       life_exp  72.880\n",
      "4                    Albania         Europe  1990       life_exp  75.183\n",
      "..                       ...            ...   ...            ...     ...\n",
      "95  Central African Republic         Africa  1980       life_exp  50.518\n",
      "96                      Chad         Africa  1990       life_exp  47.372\n",
      "97                      Chad         Africa  2000       life_exp  49.196\n",
      "98                     Chile  South America  1970       life_exp  68.186\n",
      "99                     Chile  South America  1980       life_exp  72.540\n",
      "\n",
      "[100 rows x 5 columns]\n"
     ]
    }
   ],
   "source": [
    "df_to_melt = pd.read_csv('../data/gdp_fert_birth.csv')\n",
    "print(df_to_melt.head(20))\n",
    "# df_to_melt = df_to_melt.rename(columns={'total_fertility': 'Fertility (live births per woman)', 'birth_rate_cap': 'Birht Rate (live births per 1000)', 'age_childbear': 'Mean Age at Childbearing'})\n",
    "# print(df_to_melt.head(10))\n",
    "df = df_to_melt.melt(id_vars=['country', 'cont', 'year'], \n",
    "                    value_vars=['life_exp', 'GDP_Per_Capita', 'birth_rate_cap', 'total_fertility', 'age_childbear'],\n",
    "                    var_name='Indicator Name',\n",
    "                    value_name='Value')\n",
    "print(df.head(100))\n",
    "df.to_csv('../data/indicators.csv')"
   ]
  },
  {
   "cell_type": "code",
   "execution_count": 91,
   "metadata": {},
   "outputs": [
    {
     "data": {
      "text/html": [
       "<div>\n",
       "<style scoped>\n",
       "    .dataframe tbody tr th:only-of-type {\n",
       "        vertical-align: middle;\n",
       "    }\n",
       "\n",
       "    .dataframe tbody tr th {\n",
       "        vertical-align: top;\n",
       "    }\n",
       "\n",
       "    .dataframe thead th {\n",
       "        text-align: right;\n",
       "    }\n",
       "</style>\n",
       "<table border=\"1\" class=\"dataframe\">\n",
       "  <thead>\n",
       "    <tr style=\"text-align: right;\">\n",
       "      <th></th>\n",
       "      <th>country</th>\n",
       "      <th>cont</th>\n",
       "      <th>year</th>\n",
       "      <th>Indicator Name</th>\n",
       "      <th>Value</th>\n",
       "    </tr>\n",
       "  </thead>\n",
       "  <tbody>\n",
       "    <tr>\n",
       "      <th>267</th>\n",
       "      <td>Liechtenstein</td>\n",
       "      <td>Europe</td>\n",
       "      <td>1990</td>\n",
       "      <td>life_exp</td>\n",
       "      <td>79.109756</td>\n",
       "    </tr>\n",
       "    <tr>\n",
       "      <th>268</th>\n",
       "      <td>Liechtenstein</td>\n",
       "      <td>Europe</td>\n",
       "      <td>2000</td>\n",
       "      <td>life_exp</td>\n",
       "      <td>82.682927</td>\n",
       "    </tr>\n",
       "    <tr>\n",
       "      <th>777</th>\n",
       "      <td>Liechtenstein</td>\n",
       "      <td>Europe</td>\n",
       "      <td>1990</td>\n",
       "      <td>GDP_Per_Capita</td>\n",
       "      <td>90341.746252</td>\n",
       "    </tr>\n",
       "    <tr>\n",
       "      <th>778</th>\n",
       "      <td>Liechtenstein</td>\n",
       "      <td>Europe</td>\n",
       "      <td>2000</td>\n",
       "      <td>GDP_Per_Capita</td>\n",
       "      <td>158755.600890</td>\n",
       "    </tr>\n",
       "    <tr>\n",
       "      <th>1287</th>\n",
       "      <td>Liechtenstein</td>\n",
       "      <td>Europe</td>\n",
       "      <td>1990</td>\n",
       "      <td>birth_rate_cap</td>\n",
       "      <td>13.700000</td>\n",
       "    </tr>\n",
       "    <tr>\n",
       "      <th>1288</th>\n",
       "      <td>Liechtenstein</td>\n",
       "      <td>Europe</td>\n",
       "      <td>2000</td>\n",
       "      <td>birth_rate_cap</td>\n",
       "      <td>11.000000</td>\n",
       "    </tr>\n",
       "    <tr>\n",
       "      <th>1797</th>\n",
       "      <td>Liechtenstein</td>\n",
       "      <td>Europe</td>\n",
       "      <td>1990</td>\n",
       "      <td>total_fertility</td>\n",
       "      <td>1.560000</td>\n",
       "    </tr>\n",
       "    <tr>\n",
       "      <th>1798</th>\n",
       "      <td>Liechtenstein</td>\n",
       "      <td>Europe</td>\n",
       "      <td>2000</td>\n",
       "      <td>total_fertility</td>\n",
       "      <td>1.500000</td>\n",
       "    </tr>\n",
       "    <tr>\n",
       "      <th>2307</th>\n",
       "      <td>Liechtenstein</td>\n",
       "      <td>Europe</td>\n",
       "      <td>1990</td>\n",
       "      <td>age_childbear</td>\n",
       "      <td>30.200000</td>\n",
       "    </tr>\n",
       "    <tr>\n",
       "      <th>2308</th>\n",
       "      <td>Liechtenstein</td>\n",
       "      <td>Europe</td>\n",
       "      <td>2000</td>\n",
       "      <td>age_childbear</td>\n",
       "      <td>31.100000</td>\n",
       "    </tr>\n",
       "  </tbody>\n",
       "</table>\n",
       "</div>"
      ],
      "text/plain": [
       "            country    cont  year   Indicator Name          Value\n",
       "267   Liechtenstein  Europe  1990         life_exp      79.109756\n",
       "268   Liechtenstein  Europe  2000         life_exp      82.682927\n",
       "777   Liechtenstein  Europe  1990   GDP_Per_Capita   90341.746252\n",
       "778   Liechtenstein  Europe  2000   GDP_Per_Capita  158755.600890\n",
       "1287  Liechtenstein  Europe  1990   birth_rate_cap      13.700000\n",
       "1288  Liechtenstein  Europe  2000   birth_rate_cap      11.000000\n",
       "1797  Liechtenstein  Europe  1990  total_fertility       1.560000\n",
       "1798  Liechtenstein  Europe  2000  total_fertility       1.500000\n",
       "2307  Liechtenstein  Europe  1990    age_childbear      30.200000\n",
       "2308  Liechtenstein  Europe  2000    age_childbear      31.100000"
      ]
     },
     "execution_count": 91,
     "metadata": {},
     "output_type": "execute_result"
    }
   ],
   "source": [
    "df = df[df['country'] == 'Liechtenstein']\n",
    "df.head(10)"
   ]
  }
 ],
 "metadata": {
  "kernelspec": {
   "display_name": "base",
   "language": "python",
   "name": "python3"
  },
  "language_info": {
   "codemirror_mode": {
    "name": "ipython",
    "version": 3
   },
   "file_extension": ".py",
   "mimetype": "text/x-python",
   "name": "python",
   "nbconvert_exporter": "python",
   "pygments_lexer": "ipython3",
   "version": "3.11.4"
  },
  "orig_nbformat": 4
 },
 "nbformat": 4,
 "nbformat_minor": 2
}
